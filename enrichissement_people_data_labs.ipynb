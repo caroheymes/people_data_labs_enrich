{
  "nbformat": 4,
  "nbformat_minor": 0,
  "metadata": {
    "colab": {
      "name": "enrichissement_people_data_labs.ipynb",
      "provenance": []
    },
    "kernelspec": {
      "name": "python3",
      "display_name": "Python 3"
    },
    "language_info": {
      "name": "python"
    }
  },
  "cells": [
    {
      "cell_type": "markdown",
      "metadata": {
        "id": "i-qF5k4K0kDY"
      },
      "source": [
        "# Enrichissement de données entreprises avec people data labs\n"
      ]
    },
    {
      "cell_type": "code",
      "metadata": {
        "id": "92pj8X0tQ59i"
      },
      "source": [
        "# Chargement des librairies\n",
        "import pandas as pd \n",
        "import csv\n",
        "import os\n",
        "from google.colab import drive\n"
      ],
      "execution_count": null,
      "outputs": []
    },
    {
      "cell_type": "code",
      "metadata": {
        "id": "nqlP4Q0plOcm"
      },
      "source": [
        "os.chdir('/content/')"
      ],
      "execution_count": null,
      "outputs": []
    },
    {
      "cell_type": "code",
      "metadata": {
        "colab": {
          "base_uri": "https://localhost:8080/"
        },
        "id": "RC8RYllek8d0",
        "outputId": "f5a069ff-c759-4409-b98b-aa4e32c2c58e"
      },
      "source": [
        "#Chargement du fichier people data labs companies\n",
        "url = 'https://go.peopledatalabs.com/l/831693/2020-12-09/hwt5z'\n",
        "!pip install wget\n",
        "import wget\n",
        "print('Beginning file download with wget module')\n",
        "wget.download(url, '/content/companies.csv')\n",
        "!unzip /content/companies.csv"
      ],
      "execution_count": null,
      "outputs": [
        {
          "output_type": "stream",
          "text": [
            "Requirement already satisfied: wget in /usr/local/lib/python3.7/dist-packages (3.2)\n",
            "Beginning file download with wget module\n",
            "Archive:  /content/companies.csv\n",
            "replace free_company_dataset.csv? [y]es, [n]o, [A]ll, [N]one, [r]ename: y\n",
            "  inflating: free_company_dataset.csv  y\n",
            "\n",
            "replace __MACOSX/._free_company_dataset.csv? [y]es, [n]o, [A]ll, [N]one, [r]ename:   inflating: __MACOSX/._free_company_dataset.csv  \n"
          ],
          "name": "stdout"
        }
      ]
    },
    {
      "cell_type": "code",
      "metadata": {
        "colab": {
          "base_uri": "https://localhost:8080/"
        },
        "id": "fPri7fCymHkd",
        "outputId": "c7388207-0c8c-47fa-b655-be2a331fd76d"
      },
      "source": [
        "pdl = pd.read_csv('/content/free_company_dataset.csv',error_bad_lines=False, warn_bad_lines=False)\n",
        "pdl.shape"
      ],
      "execution_count": null,
      "outputs": [
        {
          "output_type": "stream",
          "text": [
            "/usr/local/lib/python3.7/dist-packages/IPython/core/interactiveshell.py:2718: DtypeWarning: Columns (9) have mixed types.Specify dtype option on import or set low_memory=False.\n",
            "  interactivity=interactivity, compiler=compiler, result=result)\n"
          ],
          "name": "stderr"
        },
        {
          "output_type": "execute_result",
          "data": {
            "text/plain": [
              "(9851887, 10)"
            ]
          },
          "metadata": {
            "tags": []
          },
          "execution_count": 7
        }
      ]
    },
    {
      "cell_type": "code",
      "metadata": {
        "colab": {
          "base_uri": "https://localhost:8080/",
          "height": 253
        },
        "id": "964nWpy9y6t8",
        "outputId": "23760f60-1fe8-4bf0-f684-06ed168f58c1"
      },
      "source": [
        "pdl.sample(5)"
      ],
      "execution_count": null,
      "outputs": [
        {
          "output_type": "execute_result",
          "data": {
            "text/html": [
              "<div>\n",
              "<style scoped>\n",
              "    .dataframe tbody tr th:only-of-type {\n",
              "        vertical-align: middle;\n",
              "    }\n",
              "\n",
              "    .dataframe tbody tr th {\n",
              "        vertical-align: top;\n",
              "    }\n",
              "\n",
              "    .dataframe thead th {\n",
              "        text-align: right;\n",
              "    }\n",
              "</style>\n",
              "<table border=\"1\" class=\"dataframe\">\n",
              "  <thead>\n",
              "    <tr style=\"text-align: right;\">\n",
              "      <th></th>\n",
              "      <th>country</th>\n",
              "      <th>founded</th>\n",
              "      <th>id</th>\n",
              "      <th>industry</th>\n",
              "      <th>linkedin_url</th>\n",
              "      <th>locality</th>\n",
              "      <th>name</th>\n",
              "      <th>region</th>\n",
              "      <th>size</th>\n",
              "      <th>website</th>\n",
              "    </tr>\n",
              "  </thead>\n",
              "  <tbody>\n",
              "    <tr>\n",
              "      <th>4360437</th>\n",
              "      <td>india</td>\n",
              "      <td>2010.0</td>\n",
              "      <td>syamadynamic</td>\n",
              "      <td>construction</td>\n",
              "      <td>linkedin.com/company/syamadynamic</td>\n",
              "      <td>kochi</td>\n",
              "      <td>syamadynamic group</td>\n",
              "      <td>kerala</td>\n",
              "      <td>51-200</td>\n",
              "      <td>syamadynamic.com</td>\n",
              "    </tr>\n",
              "    <tr>\n",
              "      <th>9739376</th>\n",
              "      <td>united states</td>\n",
              "      <td>NaN</td>\n",
              "      <td>rock-ministry</td>\n",
              "      <td>construction</td>\n",
              "      <td>linkedin.com/company/rock-ministry</td>\n",
              "      <td>rochelle</td>\n",
              "      <td>rock ministry</td>\n",
              "      <td>illinois</td>\n",
              "      <td>11-50</td>\n",
              "      <td>NaN</td>\n",
              "    </tr>\n",
              "    <tr>\n",
              "      <th>353203</th>\n",
              "      <td>united kingdom</td>\n",
              "      <td>2000.0</td>\n",
              "      <td>mylocalitguy</td>\n",
              "      <td>information technology and services</td>\n",
              "      <td>linkedin.com/company/mylocalitguy</td>\n",
              "      <td>croydon</td>\n",
              "      <td>my local it guy</td>\n",
              "      <td>croydon</td>\n",
              "      <td>1-10</td>\n",
              "      <td>mylocalitguy.uk</td>\n",
              "    </tr>\n",
              "    <tr>\n",
              "      <th>3354775</th>\n",
              "      <td>brazil</td>\n",
              "      <td>1998.0</td>\n",
              "      <td>megaplan-planejamento-e-construcoes-ltda</td>\n",
              "      <td>construction</td>\n",
              "      <td>linkedin.com/company/megaplan-planejamento-e-c...</td>\n",
              "      <td>rio de janeiro</td>\n",
              "      <td>megaplan planejamento e construções ltda.</td>\n",
              "      <td>rio de janeiro</td>\n",
              "      <td>11-50</td>\n",
              "      <td>megaplan.eng.br</td>\n",
              "    </tr>\n",
              "    <tr>\n",
              "      <th>4977763</th>\n",
              "      <td>NaN</td>\n",
              "      <td>2017.0</td>\n",
              "      <td>cosmic-ladder</td>\n",
              "      <td>online media</td>\n",
              "      <td>linkedin.com/company/cosmic-ladder</td>\n",
              "      <td>NaN</td>\n",
              "      <td>cosmic ladder</td>\n",
              "      <td>NaN</td>\n",
              "      <td>1-10</td>\n",
              "      <td>cosmicladder.com</td>\n",
              "    </tr>\n",
              "  </tbody>\n",
              "</table>\n",
              "</div>"
            ],
            "text/plain": [
              "                country  founded  ...    size           website\n",
              "4360437           india   2010.0  ...  51-200  syamadynamic.com\n",
              "9739376   united states      NaN  ...   11-50               NaN\n",
              "353203   united kingdom   2000.0  ...    1-10   mylocalitguy.uk\n",
              "3354775          brazil   1998.0  ...   11-50   megaplan.eng.br\n",
              "4977763             NaN   2017.0  ...    1-10  cosmicladder.com\n",
              "\n",
              "[5 rows x 10 columns]"
            ]
          },
          "metadata": {
            "tags": []
          },
          "execution_count": 8
        }
      ]
    },
    {
      "cell_type": "code",
      "metadata": {
        "colab": {
          "base_uri": "https://localhost:8080/",
          "height": 508
        },
        "id": "myvobBsEo-5k",
        "outputId": "ba3a927b-ff09-4ec2-dc86-302188887461"
      },
      "source": [
        "#Chargement du fichier local pour ajout des données manquantes\n",
        "df = pd.read_excel('/content/22k_linkedin_appended.xlsx')\n",
        "df.sample(5)"
      ],
      "execution_count": null,
      "outputs": [
        {
          "output_type": "execute_result",
          "data": {
            "text/html": [
              "<div>\n",
              "<style scoped>\n",
              "    .dataframe tbody tr th:only-of-type {\n",
              "        vertical-align: middle;\n",
              "    }\n",
              "\n",
              "    .dataframe tbody tr th {\n",
              "        vertical-align: top;\n",
              "    }\n",
              "\n",
              "    .dataframe thead th {\n",
              "        text-align: right;\n",
              "    }\n",
              "</style>\n",
              "<table border=\"1\" class=\"dataframe\">\n",
              "  <thead>\n",
              "    <tr style=\"text-align: right;\">\n",
              "      <th></th>\n",
              "      <th>Civilité</th>\n",
              "      <th>first_name</th>\n",
              "      <th>Suggestion de Prénom</th>\n",
              "      <th>last_name</th>\n",
              "      <th>full_name</th>\n",
              "      <th>position</th>\n",
              "      <th>Email</th>\n",
              "      <th>Email Qualification</th>\n",
              "      <th>linkedin_comp</th>\n",
              "      <th>people_linkedin_profile</th>\n",
              "      <th>ville</th>\n",
              "      <th>company_name</th>\n",
              "      <th>dns</th>\n",
              "      <th>index</th>\n",
              "      <th>guid</th>\n",
              "      <th>linkedin_id</th>\n",
              "      <th>perimetre</th>\n",
              "      <th>description</th>\n",
              "      <th>pays_iso</th>\n",
              "      <th>pays</th>\n",
              "    </tr>\n",
              "  </thead>\n",
              "  <tbody>\n",
              "    <tr>\n",
              "      <th>9669</th>\n",
              "      <td>don</td>\n",
              "      <td>NaN</td>\n",
              "      <td>NaN</td>\n",
              "      <td>Fahnestock</td>\n",
              "      <td>Fahnestock</td>\n",
              "      <td>Bivio, Kanton Graubünden, Schweiz | Berufsprof...</td>\n",
              "      <td>NaN</td>\n",
              "      <td>NaN</td>\n",
              "      <td>https://ch.linkedin.com/company/kanton-graubünden</td>\n",
              "      <td>https://ch.linkedin.com/in/donfahnestock</td>\n",
              "      <td>Chur</td>\n",
              "      <td>Kanton Graubünden</td>\n",
              "      <td>gr.ch</td>\n",
              "      <td>33702</td>\n",
              "      <td>f94aefd9-20f2-4cbf-9bc9-66281845940f</td>\n",
              "      <td>65177748</td>\n",
              "      <td>marketing</td>\n",
              "      <td>Regional Vice President, Marketing &amp; Sales – A...</td>\n",
              "      <td>ch</td>\n",
              "      <td>SWITZERLAND</td>\n",
              "    </tr>\n",
              "    <tr>\n",
              "      <th>3390</th>\n",
              "      <td>Monsieur</td>\n",
              "      <td>Brandon</td>\n",
              "      <td>NaN</td>\n",
              "      <td>Camping</td>\n",
              "      <td>Brandon Camping</td>\n",
              "      <td>Vp, Marketing &amp; Technology</td>\n",
              "      <td>NaN</td>\n",
              "      <td>NaN</td>\n",
              "      <td>https://ch.linkedin.com/company/sbm-clenay-sol...</td>\n",
              "      <td>https://www.linkedin.com/in/brandon-camping-22...</td>\n",
              "      <td>Marly</td>\n",
              "      <td>SBM</td>\n",
              "      <td>sbm.fr</td>\n",
              "      <td>15494</td>\n",
              "      <td>d46ea517-9226-4d1e-a787-582844adfa76</td>\n",
              "      <td>10998265</td>\n",
              "      <td>marketing</td>\n",
              "      <td>Instructional Design Manager. SBM Management S...</td>\n",
              "      <td>ch</td>\n",
              "      <td>SWITZERLAND</td>\n",
              "    </tr>\n",
              "    <tr>\n",
              "      <th>10824</th>\n",
              "      <td>Madame</td>\n",
              "      <td>Sonia</td>\n",
              "      <td>NaN</td>\n",
              "      <td>Nassar</td>\n",
              "      <td>Sonia Nassar</td>\n",
              "      <td>Managing Director</td>\n",
              "      <td>NaN</td>\n",
              "      <td>NaN</td>\n",
              "      <td>https://de.linkedin.com/company/hypovereinsban...</td>\n",
              "      <td>https://fr.linkedin.com/in/sonia-nassar-bb48363</td>\n",
              "      <td>München</td>\n",
              "      <td>HypoVereinsbank - UniCredit - Deutschland</td>\n",
              "      <td>hvb.de</td>\n",
              "      <td>37698</td>\n",
              "      <td>e7786690-bbcc-4445-b984-1fbbaa38c54a</td>\n",
              "      <td>487749</td>\n",
              "      <td>sales</td>\n",
              "      <td>HypoVereinsbank - UniCredit - DeutschlandKarls...</td>\n",
              "      <td>de</td>\n",
              "      <td>GERMANY</td>\n",
              "    </tr>\n",
              "    <tr>\n",
              "      <th>10837</th>\n",
              "      <td>Madame</td>\n",
              "      <td>Vivien</td>\n",
              "      <td>NaN</td>\n",
              "      <td>Schibblock</td>\n",
              "      <td>Vivien Schibblock</td>\n",
              "      <td>Data Analyst</td>\n",
              "      <td>vivien.schibblock@hypotirol.com</td>\n",
              "      <td>nominatif@pro</td>\n",
              "      <td>https://at.linkedin.com/company/hypo-tirol-ban...</td>\n",
              "      <td>https://at.linkedin.com/in/vivien-schibblock-a...</td>\n",
              "      <td>Innsbruck</td>\n",
              "      <td>Hypo Tirol Bank AG</td>\n",
              "      <td>hypotirol.com</td>\n",
              "      <td>37732</td>\n",
              "      <td>ca2d8854-2d52-45d2-bfad-27dfe10b3f8d</td>\n",
              "      <td>74628</td>\n",
              "      <td>data</td>\n",
              "      <td>Data Analyst • Marketing. Hypo Tirol ... Head ...</td>\n",
              "      <td>at</td>\n",
              "      <td>AUSTRIA</td>\n",
              "    </tr>\n",
              "    <tr>\n",
              "      <th>5488</th>\n",
              "      <td>Madame</td>\n",
              "      <td>Maud</td>\n",
              "      <td>NaN</td>\n",
              "      <td>Brignon</td>\n",
              "      <td>Maud Brignon</td>\n",
              "      <td>Brand Manager Mentos Gum</td>\n",
              "      <td>NaN</td>\n",
              "      <td>NaN</td>\n",
              "      <td>https://nl.linkedin.com/company/perfetti-van-m...</td>\n",
              "      <td>https://fr.linkedin.com/in/maud-brignon-5608b91b</td>\n",
              "      <td>Schiphol</td>\n",
              "      <td>Perfetti Van Melle</td>\n",
              "      <td>perfettivanmelle.com</td>\n",
              "      <td>21594</td>\n",
              "      <td>5ea88cd0-ae79-4f11-b908-79c5579b1cc5</td>\n",
              "      <td>165443</td>\n",
              "      <td>marketing</td>\n",
              "      <td>Import de produits gourmets pour commercialisa...</td>\n",
              "      <td>nl</td>\n",
              "      <td>NETHERLANDS</td>\n",
              "    </tr>\n",
              "  </tbody>\n",
              "</table>\n",
              "</div>"
            ],
            "text/plain": [
              "       Civilité first_name  ... pays_iso         pays\n",
              "9669        don        NaN  ...       ch  SWITZERLAND\n",
              "3390   Monsieur    Brandon  ...       ch  SWITZERLAND\n",
              "10824    Madame      Sonia  ...       de      GERMANY\n",
              "10837    Madame     Vivien  ...       at      AUSTRIA\n",
              "5488     Madame       Maud  ...       nl  NETHERLANDS\n",
              "\n",
              "[5 rows x 20 columns]"
            ]
          },
          "metadata": {
            "tags": []
          },
          "execution_count": 10
        }
      ]
    },
    {
      "cell_type": "code",
      "metadata": {
        "colab": {
          "base_uri": "https://localhost:8080/",
          "height": 558
        },
        "id": "ckpynWPFqKsB",
        "outputId": "297e6252-6ed1-4653-9b93-403bca127b43"
      },
      "source": [
        "\n",
        "#Clean du champs linkedin_comp pour matching\n",
        "import re\n",
        "def getlk(x):\n",
        "  x = str(x)\n",
        "  try:\n",
        "    lk = re.search(\"linkedin\\.com\\/company\\/(?P<company_permalink>[A-z0-9-\\.]+)\", x).group(0)\n",
        "  except AttributeError:\n",
        "    lk = 'no results'\n",
        "  return lk\n",
        "\n",
        "# getlk('https://ch.linkedin.com/company/republique')\n",
        "df.linkedin_comp = df['linkedin_comp'].apply(getlk)\n",
        "\n",
        "df.sample(5)"
      ],
      "execution_count": null,
      "outputs": [
        {
          "output_type": "execute_result",
          "data": {
            "text/html": [
              "<div>\n",
              "<style scoped>\n",
              "    .dataframe tbody tr th:only-of-type {\n",
              "        vertical-align: middle;\n",
              "    }\n",
              "\n",
              "    .dataframe tbody tr th {\n",
              "        vertical-align: top;\n",
              "    }\n",
              "\n",
              "    .dataframe thead th {\n",
              "        text-align: right;\n",
              "    }\n",
              "</style>\n",
              "<table border=\"1\" class=\"dataframe\">\n",
              "  <thead>\n",
              "    <tr style=\"text-align: right;\">\n",
              "      <th></th>\n",
              "      <th>Civilité</th>\n",
              "      <th>first_name</th>\n",
              "      <th>Suggestion de Prénom</th>\n",
              "      <th>last_name</th>\n",
              "      <th>full_name</th>\n",
              "      <th>position</th>\n",
              "      <th>Email</th>\n",
              "      <th>Email Qualification</th>\n",
              "      <th>linkedin_comp</th>\n",
              "      <th>people_linkedin_profile</th>\n",
              "      <th>ville</th>\n",
              "      <th>company_name</th>\n",
              "      <th>dns</th>\n",
              "      <th>index</th>\n",
              "      <th>guid</th>\n",
              "      <th>linkedin_id</th>\n",
              "      <th>perimetre</th>\n",
              "      <th>description</th>\n",
              "      <th>pays_iso</th>\n",
              "      <th>pays</th>\n",
              "    </tr>\n",
              "  </thead>\n",
              "  <tbody>\n",
              "    <tr>\n",
              "      <th>15749</th>\n",
              "      <td>Monsieur</td>\n",
              "      <td>Alexandru</td>\n",
              "      <td>NaN</td>\n",
              "      <td>Demeter</td>\n",
              "      <td>Alexandru Demeter</td>\n",
              "      <td>Birmingham, United Kingdom | Professional ...</td>\n",
              "      <td>NaN</td>\n",
              "      <td>NaN</td>\n",
              "      <td>linkedin.com/company/demet</td>\n",
              "      <td>https://uk.linkedin.com/in/alexandrudemeter</td>\n",
              "      <td>Alblasserdam</td>\n",
              "      <td>Demeter</td>\n",
              "      <td>demeter-im.com</td>\n",
              "      <td>50843</td>\n",
              "      <td>dfd481d0-ada4-4482-a0bb-e2359bd627db</td>\n",
              "      <td>135205</td>\n",
              "      <td>marketing</td>\n",
              "      <td>View Alexandru Demeter's profile on LinkedIn, ...</td>\n",
              "      <td>nl</td>\n",
              "      <td>NETHERLANDS</td>\n",
              "    </tr>\n",
              "    <tr>\n",
              "      <th>258</th>\n",
              "      <td>Monsieur</td>\n",
              "      <td>Antoine</td>\n",
              "      <td>NaN</td>\n",
              "      <td>Doutriaux</td>\n",
              "      <td>Antoine Doutriaux</td>\n",
              "      <td>École Polytechnique</td>\n",
              "      <td>NaN</td>\n",
              "      <td>NaN</td>\n",
              "      <td>linkedin.com/company/wittur</td>\n",
              "      <td>https://fr.linkedin.com/in/antoinedoutriaux</td>\n",
              "      <td>Wiedenzhausen</td>\n",
              "      <td>Wittur Group</td>\n",
              "      <td>wittur.com</td>\n",
              "      <td>1022</td>\n",
              "      <td>09fa2304-49e1-4736-83b3-af348fc2ffcf</td>\n",
              "      <td>109893</td>\n",
              "      <td>sales</td>\n",
              "      <td>Wittur GroupÉcole Polytechnique. Allemagne+ de...</td>\n",
              "      <td>de</td>\n",
              "      <td>GERMANY</td>\n",
              "    </tr>\n",
              "    <tr>\n",
              "      <th>541</th>\n",
              "      <td>Madame</td>\n",
              "      <td>Diana</td>\n",
              "      <td>NaN</td>\n",
              "      <td>Desmarais</td>\n",
              "      <td>Diana Desmarais</td>\n",
              "      <td>Wawanesa Insurance</td>\n",
              "      <td>NaN</td>\n",
              "      <td>NaN</td>\n",
              "      <td>linkedin.com/company/wawanesa-insurance</td>\n",
              "      <td>https://ca.linkedin.com/in/diana-desmarais-b53...</td>\n",
              "      <td>Toronto</td>\n",
              "      <td>Wawanesa Insurance</td>\n",
              "      <td>wawanesa.com</td>\n",
              "      <td>1818</td>\n",
              "      <td>1335bdf5-6a59-4852-9d61-ac25db0655ab</td>\n",
              "      <td>61276</td>\n",
              "      <td>NaN</td>\n",
              "      <td>Diana Desmarais. Senior Business Development S...</td>\n",
              "      <td>ca</td>\n",
              "      <td>CANADA</td>\n",
              "    </tr>\n",
              "    <tr>\n",
              "      <th>3392</th>\n",
              "      <td>Monsieur</td>\n",
              "      <td>Joseph</td>\n",
              "      <td>NaN</td>\n",
              "      <td>Okumu Karamoja</td>\n",
              "      <td>Joseph Okumu Karamoja</td>\n",
              "      <td>Lead Consultant</td>\n",
              "      <td>NaN</td>\n",
              "      <td>NaN</td>\n",
              "      <td>linkedin.com/company/sbm-clenay-solutions-de-c...</td>\n",
              "      <td>https://ke.linkedin.com/in/joseph-okumu-karamo...</td>\n",
              "      <td>Marly</td>\n",
              "      <td>SBM</td>\n",
              "      <td>sbm.fr</td>\n",
              "      <td>15496</td>\n",
              "      <td>d46ea517-9226-4d1e-a787-582844adfa76</td>\n",
              "      <td>10998265</td>\n",
              "      <td>marketing</td>\n",
              "      <td>I have handled various responsibilities as Bra...</td>\n",
              "      <td>ch</td>\n",
              "      <td>SWITZERLAND</td>\n",
              "    </tr>\n",
              "    <tr>\n",
              "      <th>14035</th>\n",
              "      <td>Monsieur</td>\n",
              "      <td>Tim</td>\n",
              "      <td>NaN</td>\n",
              "      <td>Liu</td>\n",
              "      <td>Tim Liu</td>\n",
              "      <td>Overseas Marketing Leader</td>\n",
              "      <td>NaN</td>\n",
              "      <td>NaN</td>\n",
              "      <td>linkedin.com/company/epayglobalpayment</td>\n",
              "      <td>https://cn.linkedin.com/in/tim-liu-b60615161</td>\n",
              "      <td>Dublin</td>\n",
              "      <td>Epay Global Payment LTD.</td>\n",
              "      <td>epay.com</td>\n",
              "      <td>46843</td>\n",
              "      <td>e49b75b1-d96d-4fd2-aa2e-75ef3bc71558</td>\n",
              "      <td>6465869</td>\n",
              "      <td>marketing</td>\n",
              "      <td>Payment Getaway,credit Card，Bank transfer&amp;wire...</td>\n",
              "      <td>ie</td>\n",
              "      <td>IRELAND</td>\n",
              "    </tr>\n",
              "  </tbody>\n",
              "</table>\n",
              "</div>"
            ],
            "text/plain": [
              "       Civilité first_name  ... pays_iso         pays\n",
              "15749  Monsieur  Alexandru  ...       nl  NETHERLANDS\n",
              "258    Monsieur    Antoine  ...       de      GERMANY\n",
              "541      Madame      Diana  ...       ca       CANADA\n",
              "3392   Monsieur     Joseph  ...       ch  SWITZERLAND\n",
              "14035  Monsieur        Tim  ...       ie      IRELAND\n",
              "\n",
              "[5 rows x 20 columns]"
            ]
          },
          "metadata": {
            "tags": []
          },
          "execution_count": 11
        }
      ]
    },
    {
      "cell_type": "code",
      "metadata": {
        "id": "Tp2s4sDlpUPd"
      },
      "source": [
        "df = df.merge(pdl, left_on='linkedin_comp', right_on='linkedin_url')"
      ],
      "execution_count": null,
      "outputs": []
    },
    {
      "cell_type": "code",
      "metadata": {
        "id": "Rsm8v20-zaez"
      },
      "source": [
        "df.fillna('', inplace=True)"
      ],
      "execution_count": null,
      "outputs": []
    },
    {
      "cell_type": "code",
      "metadata": {
        "id": "C4hqp49Szz7c"
      },
      "source": [
        "df.to_excel('/content//w_append.xlsx')"
      ],
      "execution_count": null,
      "outputs": []
    }
  ]
}